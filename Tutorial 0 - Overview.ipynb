{
  "cells": [
    {
      "cell_type": "markdown",
      "metadata": {
        "id": "view-in-github",
        "colab_type": "text"
      },
      "source": [
        "<a href=\"https://colab.research.google.com/github/sjenkinsnm/ECE584/blob/main/Tutorial%200%20-%20Overview.ipynb\" target=\"_parent\"><img src=\"https://colab.research.google.com/assets/colab-badge.svg\" alt=\"Open In Colab\"/></a>"
      ]
    },
    {
      "cell_type": "markdown",
      "metadata": {
        "id": "I48V1x6VtCv0"
      },
      "source": [
        "![tutorial banner](https://github.com/PV-Tutorials/2025_pvlib_UNM/blob/main/images/tutorial_banner.PNG?raw=1)\n",
        "\n",
        "# Welcome to Python, Jupyter, and Google Collab\n"
      ]
    },
    {
      "cell_type": "markdown",
      "metadata": {
        "id": "cT72IfcxtCwA"
      },
      "source": [
        "## How to use this tutorial?\n",
        "\n",
        "This tutorial is a [Jupyter](https://jupyter.org) notebook. Jupyter is a browser based interactive tool that combines text, images, equations, and code that can be shared with others. Please see the setup section in the [README](./README.md) to learn more about how to get started."
      ]
    },
    {
      "cell_type": "markdown",
      "metadata": {
        "id": "ljrawLZQtCwC"
      },
      "source": [
        "## Tutorial Structure\n",
        "\n",
        "This tutorial is made up of multiple Jupyter Notebooks. These notebooks mix\n",
        "code, text, visualization, and exercises.\n",
        "\n",
        "If you haven't used JupyterLab before, it's similar to the Jupyter Notebook. If\n",
        "you haven't used the Notebook, the quick intro is\n",
        "\n",
        "1. There are two modes: ``command`` and ``edit``\n",
        "\n",
        "1. From ``command`` mode, press `Enter` to edit a cell (like this markdown cell)\n",
        "\n",
        "1. From ``edit`` mode, press `Esc` to change to command mode\n",
        "1. Press `shift+enter` to execute a cell and move to the next cell.\n",
        "1. The toolbar has commands for executing, converting, and creating cells.\n",
        "\n",
        "The layout of the tutorial will be as follows:\n",
        "\n"
      ]
    },
    {
      "cell_type": "code",
      "execution_count": 1,
      "metadata": {
        "id": "8qH1vyJptCwE"
      },
      "outputs": [],
      "source": [
        "# if running on google colab, uncomment the next line and execute this cell to install the dependencies and prevent \"ModuleNotFoundError\" in later cells:\n",
        "# !pip install -r https://raw.githubusercontent.com/PVSC-Python-Tutorials/PVSC50/main/requirements.txt"
      ]
    },
    {
      "cell_type": "markdown",
      "metadata": {
        "id": "aSJbmJk7tCwJ"
      },
      "source": [
        "## Exercise: Print Hello, world!\n",
        "\n",
        "Each notebook will have exercises for you to solve. You'll be given a blank or\n",
        "partially completed cell, followed by a hidden cell with a solution. For\n",
        "example.\n",
        "\n",
        "Print the text \"Hello, world!\".\n"
      ]
    },
    {
      "cell_type": "code",
      "execution_count": 2,
      "metadata": {
        "id": "wGUFK4WztCwK",
        "outputId": "40ebf2d9-62d1-4909-9d6f-2c8ed5032acb",
        "colab": {
          "base_uri": "https://localhost:8080/"
        }
      },
      "outputs": [
        {
          "output_type": "stream",
          "name": "stdout",
          "text": [
            "Hello, world!\n"
          ]
        }
      ],
      "source": [
        "# Your code here\n",
        "print(\"Hello, world!\")"
      ]
    },
    {
      "cell_type": "markdown",
      "metadata": {
        "id": "MJL8j8m0tCwM"
      },
      "source": [
        "## Exercise 1: Modify to print something else:"
      ]
    },
    {
      "cell_type": "code",
      "execution_count": 6,
      "metadata": {
        "id": "1jmOEaEBtCwO",
        "outputId": "37915ec2-0f7c-4c43-994e-83ca1b2c8002",
        "colab": {
          "base_uri": "https://localhost:8080/"
        }
      },
      "outputs": [
        {
          "output_type": "stream",
          "name": "stdout",
          "text": [
            "print something else\n"
          ]
        }
      ],
      "source": [
        "my_string =  \"print something else\"  # Add your text here. Remember to put it inside of single quotes or double quotes ( \" \" or '' )\n",
        "print(my_string)"
      ]
    },
    {
      "cell_type": "markdown",
      "metadata": {
        "id": "2U3ZuvoztCwP"
      },
      "source": [
        "## Let's go over some Python Concepts\n",
        "\n",
        "(A lot of this examples were shamely taken from https://jckantor.github.io/CBE30338/01.01-Getting-Started-with-Python-and-Jupyter-Notebooks.html :$)\n",
        "\n",
        "\n",
        "## Basic Arithmetic Operations\n",
        "\n",
        "Basic arithmetic operations are built into the Python langauge. Here are some examples. In particular, note that exponentiation is done with the ** operator."
      ]
    },
    {
      "cell_type": "code",
      "execution_count": 7,
      "metadata": {
        "id": "pfaIgP8xtCwY",
        "outputId": "2707cadd-1a7c-4655-ccb0-fd23a6a928d6",
        "colab": {
          "base_uri": "https://localhost:8080/"
        }
      },
      "outputs": [
        {
          "output_type": "stream",
          "name": "stdout",
          "text": [
            "5\n",
            "8\n",
            "0.6666666666666666\n"
          ]
        }
      ],
      "source": [
        "a = 2\n",
        "b = 3\n",
        "print(a + b)\n",
        "print(a ** b)\n",
        "print(a / b)"
      ]
    },
    {
      "cell_type": "markdown",
      "metadata": {
        "id": "VovjnjpCtCwZ"
      },
      "source": [
        "## Python Libraries\n",
        "\n",
        "The Python language has only very basic operations. Most math functions are in various math libraries. The numpy library is convenient library. This next cell shows how to import numpy with the prefix np, then use it to call a common mathematical functions."
      ]
    },
    {
      "cell_type": "code",
      "execution_count": 8,
      "metadata": {
        "id": "7kEKpaF3tCwa",
        "outputId": "2d1c60af-5d6e-4d9f-9a1c-43de7bde3f25",
        "colab": {
          "base_uri": "https://localhost:8080/"
        }
      },
      "outputs": [
        {
          "output_type": "stream",
          "name": "stdout",
          "text": [
            "3.141592653589793\n",
            "2.718281828459045\n",
            "0.7071067811865475\n",
            "0.7071067811865476\n",
            "0.9999999999999999\n"
          ]
        }
      ],
      "source": [
        "import numpy as np\n",
        "\n",
        "# mathematical constants\n",
        "print(np.pi)\n",
        "print(np.e)\n",
        "\n",
        "# trignometric functions\n",
        "angle = np.pi/4\n",
        "print(np.sin(angle))\n",
        "print(np.cos(angle))\n",
        "print(np.tan(angle))"
      ]
    },
    {
      "cell_type": "markdown",
      "metadata": {
        "id": "AJJof0pItCwb"
      },
      "source": [
        "Lists are a versatile way of organizing your data in Python. Here are some examples, more can be found on this Khan Academy video."
      ]
    },
    {
      "cell_type": "code",
      "execution_count": 9,
      "metadata": {
        "id": "kl6sZCkmtCwb",
        "outputId": "515b4819-bbef-4527-ed08-edfccd530093",
        "colab": {
          "base_uri": "https://localhost:8080/"
        }
      },
      "outputs": [
        {
          "output_type": "execute_result",
          "data": {
            "text/plain": [
              "[1, 2, 3, 4]"
            ]
          },
          "metadata": {},
          "execution_count": 9
        }
      ],
      "source": [
        "xList = [1, 2, 3, 4]\n",
        "xList"
      ]
    },
    {
      "cell_type": "markdown",
      "metadata": {
        "id": "Ysr3Q_h2tCwb"
      },
      "source": [
        "## Concatenation\n",
        "\n",
        "Concatentation is the operation of joining one list to another."
      ]
    },
    {
      "cell_type": "code",
      "execution_count": 10,
      "metadata": {
        "id": "yD2REYY9tCwc",
        "outputId": "749399cd-59a2-4f41-f2d8-aa8cb8021926",
        "colab": {
          "base_uri": "https://localhost:8080/"
        }
      },
      "outputs": [
        {
          "output_type": "execute_result",
          "data": {
            "text/plain": [
              "[1, 2, 3, 4, 5, 6, 7, 8]"
            ]
          },
          "metadata": {},
          "execution_count": 10
        }
      ],
      "source": [
        "x = [1, 2, 3, 4];\n",
        "y = [5, 6, 7, 8];\n",
        "\n",
        "x + y"
      ]
    },
    {
      "cell_type": "code",
      "execution_count": 11,
      "metadata": {
        "id": "lTaRqKhRtCwc",
        "outputId": "cda24756-6bc2-47d8-dd44-85b7efee950f",
        "colab": {
          "base_uri": "https://localhost:8080/"
        }
      },
      "outputs": [
        {
          "output_type": "execute_result",
          "data": {
            "text/plain": [
              "10"
            ]
          },
          "metadata": {},
          "execution_count": 11
        }
      ],
      "source": [
        "np.sum(x)"
      ]
    },
    {
      "cell_type": "markdown",
      "metadata": {
        "id": "YnTy-GDNtCwc"
      },
      "source": [
        "## Loops"
      ]
    },
    {
      "cell_type": "code",
      "execution_count": 12,
      "metadata": {
        "id": "ULlyty48tCwd",
        "outputId": "02f8bdca-3871-4ae6-e552-4a01f21a7e3d",
        "colab": {
          "base_uri": "https://localhost:8080/"
        }
      },
      "outputs": [
        {
          "output_type": "stream",
          "name": "stdout",
          "text": [
            "sin(1) =  0.84147\n",
            "sin(2) =  0.90930\n",
            "sin(3) =  0.14112\n",
            "sin(4) = -0.75680\n"
          ]
        }
      ],
      "source": [
        "for x in xList:\n",
        "    print(\"sin({0}) = {1:8.5f}\".format(x,np.sin(x)))"
      ]
    },
    {
      "cell_type": "markdown",
      "metadata": {
        "id": "xQPqiX0QtCwd"
      },
      "source": [
        "## Working with Dictionaries\n",
        "\n",
        "Dictionaries are useful for storing and retrieving data as key-value pairs. For example, here is a short dictionary of molar masses. The keys are molecular formulas, and the values are the corresponding molar masses.\n"
      ]
    },
    {
      "cell_type": "code",
      "execution_count": 13,
      "metadata": {
        "id": "TsQZULkxtCwe",
        "outputId": "b63351bf-56da-487e-94e4-4e10e22566fd",
        "colab": {
          "base_uri": "https://localhost:8080/"
        }
      },
      "outputs": [
        {
          "output_type": "execute_result",
          "data": {
            "text/plain": [
              "{'Arizona': 16.04, 'California': 30.02, 'Texas': 18.0, 'Colorado': 44.01}"
            ]
          },
          "metadata": {},
          "execution_count": 13
        }
      ],
      "source": [
        "States_SolarInstallations2020 = {'Arizona': 16.04, 'California': 30.02, 'Texas':18.00, 'Colorado': 44.01}  # GW\n",
        "States_SolarInstallations2020"
      ]
    },
    {
      "cell_type": "markdown",
      "metadata": {
        "id": "jaZTYdiztCwe"
      },
      "source": [
        "We can a value to an existing dictionary.\n"
      ]
    },
    {
      "cell_type": "code",
      "execution_count": 14,
      "metadata": {
        "id": "lVqYKsaJtCwe"
      },
      "outputs": [],
      "source": [
        "States_SolarInstallations2020['New Mexico'] = 22.4\n"
      ]
    },
    {
      "cell_type": "markdown",
      "metadata": {
        "id": "qydZrL_6tCwe"
      },
      "source": [
        "## Plotting\n",
        "\n",
        "Importing the matplotlib.pyplot library gives IPython notebooks plotting functionality very similar to Matlab's. Here are some examples using functions from the"
      ]
    },
    {
      "cell_type": "code",
      "execution_count": 15,
      "metadata": {
        "id": "4XPTIw3xtCwf",
        "outputId": "282b7b98-eeee-4c57-95aa-02f688f86585",
        "colab": {
          "base_uri": "https://localhost:8080/",
          "height": 472
        }
      },
      "outputs": [
        {
          "output_type": "display_data",
          "data": {
            "text/plain": [
              "<Figure size 640x480 with 1 Axes>"
            ],
            "image/png": "[encoded data removed]"
          },
          "metadata": {}
        }
      ],
      "source": [
        "%matplotlib inline\n",
        "\n",
        "import matplotlib.pyplot as plt\n",
        "import numpy as np\n",
        "\n",
        "x = np.linspace(0,10)\n",
        "y = np.sin(x)\n",
        "z = np.cos(x)\n",
        "\n",
        "plt.plot(x,y,'b',x,z,'r')\n",
        "plt.xlabel('Radians');\n",
        "plt.ylabel('Value');\n",
        "plt.title('Plotting Demonstration')\n",
        "plt.legend(['Sin','Cos'])\n",
        "plt.grid()"
      ]
    },
    {
      "cell_type": "markdown",
      "metadata": {
        "jp-MarkdownHeadingCollapsed": true,
        "id": "7Zl4KfrxtCwf"
      },
      "source": [
        "## Now you're ready\n",
        "\n",
        "This skills will allow you to explore any jupyter notebook."
      ]
    },
    {
      "cell_type": "markdown",
      "metadata": {
        "id": "8OfanuHktCwf"
      },
      "source": [
        "[![Creative Commons License](https://i.creativecommons.org/l/by/4.0/88x31.png)](http://creativecommons.org/licenses/by/4.0/)\n",
        "\n",
        "This work is licensed under a [Creative Commons Attribution 4.0 International License](http://creativecommons.org/licenses/by/4.0/)."
      ]
    }
  ],
  "metadata": {
    "kernelspec": {
      "display_name": "Python 3 (ipykernel)",
      "language": "python",
      "name": "python3"
    },
    "language_info": {
      "codemirror_mode": {
        "name": "ipython",
        "version": 3
      },
      "file_extension": ".py",
      "mimetype": "text/x-python",
      "name": "python",
      "nbconvert_exporter": "python",
      "pygments_lexer": "ipython3",
      "version": "3.12.7"
    },
    "colab": {
      "provenance": [],
      "include_colab_link": true
    }
  },
  "nbformat": 4,
  "nbformat_minor": 0
}